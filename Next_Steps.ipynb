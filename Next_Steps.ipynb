{
 "cells": [
  {
   "cell_type": "markdown",
   "metadata": {},
   "source": [
    "## Next Steps"
   ]
  },
  {
   "cell_type": "markdown",
   "metadata": {},
   "source": [
    "\n",
    "### Things we did not cover and is present in the notes:\n",
    "\n",
    " - Web frameworks (competing with Flask)\n",
    "   - Django\n",
    "   - Starlette\n",
    "   - FastAPI\n",
    "\n",
    "\n",
    " - Container orchestration\n",
    "   - GKE\n",
    "   - Kubernetes hosted (demo using minikube)\n",
    "   - Virtualbox\n",
    "   - EKS\n",
    "\n",
    "\n",
    " - Scheduling\n",
    "   - cron\n",
    "   - Airflow"
   ]
  },
  {
   "cell_type": "markdown",
   "metadata": {},
   "source": [
    "### Things we did not cover and is currently not present in the notes\n",
    "\n",
    " - RStudio Server as a replacement for Python Jupyter\n",
    "\n",
    "\n",
    " - Application databases that can compete with BigQuery\n",
    "   - Sqlite (example using Python)\n",
    "   - Postgres (example via Docker)\n",
    "   - MySQL\n",
    "   - ...\n",
    "\n",
    "\n",
    " - Virtual machine solutions\n",
    "   - virtualbox\n",
    "   - Vagrant\n",
    "   - Vmware Fusion\n",
    "   - Parallels\n",
    "   - ...\n",
    "   \n",
    "   \n",
    " - Python\n",
    "   - Type hints\n",
    "   - Creating modules and packages\n",
    "   - Linting and code formatting\n",
    "   - Testing\n",
    "   - Decorators\n",
    "   - fstrings\n",
    "   - Debugging using breakpoints\n",
    "   - ..."
   ]
  },
  {
   "cell_type": "markdown",
   "metadata": {},
   "source": [
    " - Managed ML Services\n",
    "   - Amazon ML\n",
    "     - Sagemaker\n",
    "     - ...\n",
    "   - Microsoft Azure ML\n",
    "   - Google Cloud Big Data and AI services"
   ]
  },
  {
   "cell_type": "markdown",
   "metadata": {},
   "source": [
    " - Version Control\n",
    "   - Git\n",
    " \n",
    " \n",
    " - Integrated Dev Environments\n",
    "   - VSCode + Python Extension\n",
    "   - JetBrains PyCharm\n",
    "   - XCode\n",
    "   - Visual Studio\n",
    "   - Spyder\n",
    "   - ...\n",
    "   "
   ]
  },
  {
   "cell_type": "markdown",
   "metadata": {},
   "source": [
    " - Linux Utilities\n",
    "  - Bash\n",
    "  - SSH\n",
    "  - cut/awk/sed\n",
    "  - vim/emacs/nano\n",
    "  - wget/curl\n",
    "  - awscli/gcloud\n",
    "  - top\n",
    "  - cp/mv/ls/mkdir/pwd\n",
    "  - ..."
   ]
  },
  {
   "cell_type": "markdown",
   "metadata": {},
   "source": [
    " - Web Building Blocks\n",
    "  - IP\n",
    "  - DNS\n",
    "  - HTTPS\n",
    "  - Domain names\n",
    "  - ..."
   ]
  },
  {
   "cell_type": "markdown",
   "metadata": {},
   "source": [
    " - Miscellaneous MLOps related tools\n",
    "  - Pytorch serve and tensorflow deployment patterns\n",
    "  - featurestore\n",
    "  - https://dvc.org/\n",
    "  - https://cml.dev/\n",
    "  - ..."
   ]
  },
  {
   "cell_type": "markdown",
   "metadata": {},
   "source": []
  }
 ],
 "metadata": {
  "kernelspec": {
   "display_name": "Python 3",
   "language": "python",
   "name": "python3"
  },
  "language_info": {
   "name": ""
  }
 },
 "nbformat": 4,
 "nbformat_minor": 4
}
