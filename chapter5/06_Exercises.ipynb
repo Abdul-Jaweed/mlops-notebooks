{
 "cells": [
  {
   "cell_type": "markdown",
   "metadata": {},
   "source": [
    "## Exercises\n",
    "\n",
    "\n",
    "1. Generalize the data fetching in the recommendation workflow from a external URL that changes the data each day.\n",
    "\n",
    "2. Change the package `pandas_gbq` to `google-cloud-bigquery` to accomplish saving the predictions to google cloud. See [https://cloud.google.com/bigquery/docs/pandas-gbq-migration](https://cloud.google.com/bigquery/docs/pandas-gbq-migration) for more information.\n",
    "\n",
    "3. Improve the formatting of the recommended movies in Section; Recommendation Workflow.\n",
    "\n",
    "4. Go through the CronJob documentation on [https://kubernetes.io/docs/concepts/workloads/controllers/cron-jobs/](https://kubernetes.io/docs/concepts/workloads/controllers/cron-jobs/) and run the example cronjob on minikube.\n",
    "\n",
    "5. Go through the tutorial on cron by [Digitalocean](https://www.digitalocean.com/community/tutorials/how-to-use-cron-to-automate-tasks-ubuntu-1804).\n",
    "\n",
    "6. Follow the bigquery + python module from [https://codelabs.developers.google.com/codelabs/cloud-bigquery-python/index.html#0](https://codelabs.developers.google.com/codelabs/cloud-bigquery-python/index.html#0)\n",
    "\n",
    "7. Use the managed Airflow solution from Google Cloud, namely [Google Cloud Composer](https://cloud.google.com/composer/) to replicate our model training pipeline monitoring."
   ]
  },
  {
   "cell_type": "code",
   "execution_count": null,
   "metadata": {},
   "outputs": [],
   "source": []
  }
 ],
 "metadata": {
  "kernelspec": {
   "display_name": "Python 3",
   "language": "python",
   "name": "python3"
  },
  "language_info": {
   "codemirror_mode": {
    "name": "ipython",
    "version": 3
   },
   "file_extension": ".py",
   "mimetype": "text/x-python",
   "name": "python",
   "nbconvert_exporter": "python",
   "pygments_lexer": "ipython3",
   "version": 3
  }
 },
 "nbformat": 4,
 "nbformat_minor": 4
}
