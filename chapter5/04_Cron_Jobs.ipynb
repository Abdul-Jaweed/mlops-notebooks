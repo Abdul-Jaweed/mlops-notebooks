{
 "cells": [
  {
   "cell_type": "markdown",
   "metadata": {},
   "source": [
    "## Cron Jobs"
   ]
  },
  {
   "cell_type": "markdown",
   "metadata": {},
   "source": [
    "\n",
    "*Cron expressions will be useful while looking at Apache Airflow scheduling system*.\n",
    "\n",
    "### Docker Image of the Transient Pipeline\n",
    "\n",
    " - First, we will convert our notebook to a script (reduces dependency on Jupyter, try to find other packages you can get away with not installing). Running the py file locally updates the predictions on BigQuery as expected.\n",
    "\n",
    "```bash\n",
    "(datasci-dev) ttmac:lec05 theja$ jupyter nbconvert --to script recommend_lightfm.ipynb\n",
    "[NbConvertApp] Converting notebook recommend_lightfm.ipynb to script\n",
    "[NbConvertApp] Writing 4718 bytes to recommend_lightfm.py\n",
    "(datasci-dev) ttmac:lec05 theja$ python recommend_lightfm.py\n",
    "/Users/theja/miniconda3/envs/datasci-dev/lib/python3.7/site-packages/lightfm/_lightfm_fast.py:9: UserWarning: LightFM was compiled without OpenMP support. Only a single thread will be used.\n",
    "  warnings.warn('LightFM was compiled without OpenMP support. '\n",
    "<943x1682 sparse matrix of type '<class 'numpy.int32'>'\n",
    "\twith 19048 stored elements in COOrdinate format>\n",
    "<943x1682 sparse matrix of type '<class 'numpy.int32'>'\n",
    "\twith 2153 stored elements in COOrdinate format>\n",
    "1it [00:03,  3.86s/it]\n",
    "```\n",
    "\n",
    " - Second, we will create a simple bash script called `run_transient_pipeline.sh` which has the following content for ease of use:\n",
    "   - [Download locally](run_transient_pipeline.sh)\n",
    "\n",
    "```bash\n",
    "#!/bin/bash\n",
    "\n",
    "export GOOGLE_APPLICATION_CREDENTIALS=/model-user.json\n",
    "python recommend_lightfm.py\n",
    "``` \n",
    "\n",
    " - Next, we will repeat the steps covered in a previous section to quickly build a docker image. For this, we will need a Dockerfile that installs the appropriate dependencies beforehand.\n",
    "   - [Download locally](Dockerfile)"
   ]
  },
  {
   "cell_type": "markdown",
   "metadata": {},
   "source": [
    "```bash\n",
    "FROM debian:buster-slim\n",
    "\n",
    "MAINTAINER Theja Tulabandhula\n",
    "\n",
    "RUN apt-get update \\\n",
    "  && apt-get install -y python3-pip python3-dev \\\n",
    "  && cd /usr/local/bin \\\n",
    "  && ln -s /usr/bin/python3 python\n",
    "\n",
    "RUN pip3 install pandas-gbq lightfm==1.15 numpy \n",
    "\n",
    "RUN pip3 install google-cloud-core==1.3.0 google-cloud-bigquery==1.20.0\n",
    "\n",
    "COPY recommend_lightfm.py recommend_lightfm.py\n",
    "\n",
    "COPY model-user.json model-user.json\n",
    "\n",
    "COPY run_transient_pipeline.sh run_transient_pipeline.sh\n",
    "\n",
    "RUN chmod +x run_transient_pipeline.sh\n",
    "\n",
    "CMD ./run_transient_pipeline.sh\n",
    "```\n"
   ]
  },
  {
   "cell_type": "markdown",
   "metadata": {},
   "source": [
    "\n",
    " - We can build the image and then run a container based on this image locally.\n",
    "\n",
    "```bash\n",
    "(datasci-dev) ttmac:lec05 theja$ docker image build -t \"recommend_pipeline\" .\n",
    ".\n",
    ".\n",
    "(truncated output)\n",
    ".\n",
    ".\n",
    "(datasci-dev) ttmac:lec05 theja$ docker images\n",
    "REPOSITORY                                                     TAG                 IMAGE ID            CREATED             SIZE\n",
    "recommend_pipeline                                             latest              12a25accc725        36 seconds ago      758MB\n",
    "(datasci-dev) ttmac:lec05 theja$ docker run recommend_pipeline\n",
    "<943x1682 sparse matrix of type '<class 'numpy.int32'>'\n",
    "\twith 19048 stored elements in COOrdinate format>\n",
    "<943x1682 sparse matrix of type '<class 'numpy.int32'>'\n",
    "\twith 2153 stored elements in COOrdinate format>\n",
    "(datasci-dev) ttmac:lec05 theja$\n",
    "```\n",
    " \n",
    "  - Verify through the browser based BigQuery page that the predictions are indeed updated.\n",
    "\n"
   ]
  },
  {
   "cell_type": "markdown",
   "metadata": {},
   "source": [
    "\n",
    "### Cron (1975-)\n",
    "\n",
    " - As described on [wikipedia](https://en.wikipedia.org/wiki/Cron), `cron` is a command line service/daemon/program for time based scheduling of programs (python scripts in our case). Its present in many UNIX-like OSs including Ubuntu/CentOS etc.\n",
    "\n",
    " - It is a very useful tool to automate system maintenance (e.g., taking backups) as well as for administration.\n",
    "\n",
    " - Its name originates from the greek word χρόνος (chronos) meaning time.\n",
    "\n",
    " - One of the greatest benefits of using cron is that: \n",
    "  - it has been widely used for several decades, and\n",
    "  - it is easy to use with limited ways to go wrong.\n",
    "\n",
    " - The key limitations of using a cron daemon for scheduling include:\n",
    "  - can run tasks on a single machine\n",
    "  - OS dependent\n",
    "  - need glue code (python, bash) to work with it\n",
    "\n",
    " - While cron has its issues with respect to how flexible it is in large scale production environments. But it is a great time-tested utility for individual level automation (e.g., scraping, training models repeatedly as we are planning to do etc).\n",
    "\n"
   ]
  },
  {
   "cell_type": "markdown",
   "metadata": {},
   "source": [
    "\n",
    " - `crontab` is the command line utility to set up the task schedule (as a user or by root). The task (our python script) is run on the system where cron itself is present, so it is good to ensure all dependencies and logging are in place.\n",
    "\n",
    " - The tasks are run according to the privileges of the user who created the schedule.\n",
    "\n",
    " - We can edit/create a schedule by using the command `crontab -e` on the commandline (linux/macOS).\n",
    "\n",
    " - Task schedules are expressed in terms of corn expressions.\n",
    "\n",
    " - This is a sequence of 5 numbers that tell the scheduler to run your program periodically. Instead of numbers, characters such as `*`,`-`,`\\` and `,` are also used. Lets look at an example expression and understand what it does:\n",
    "\n",
    "```bash\n",
    "1 2 3 4 5 /path/to/mycommand argument1 argument2\n",
    "```\n",
    "\n",
    " - In the above, the first entry is the minute index (varying between 0-59), 2nd is for hour (0-23), 3rd for day of the month (1-31), 4th for month (1-12) and 5th for day of week (0 or 7 is for Sunday).\n"
   ]
  },
  {
   "cell_type": "markdown",
   "metadata": {},
   "source": [
    "\n",
    " - If we need to run a job/task as a system service, then the username also features into the task expression. So the above becomes:\n",
    "\n",
    "```bash\n",
    "1 2 3 4 5 username /path/to/mycommand argument1 argument2\n",
    "```\n",
    "\n",
    " - Example 1: To run a task everyday at 12 minutes past 2pm, our specification would be:\n",
    "\n",
    "```bash\n",
    "12 14 * * * /path/to/mycommand argument1 argument2\n",
    "```\n",
    "\n",
    " - Example 2: If you want a task to be run every month at a certain date (say the 5th and 7th days), then the specification would be:\n",
    "\n",
    "```bash\n",
    "12 14 5,7 * * /path/to/mycommand argument1 argument2\n",
    "```\n",
    "\n",
    " - Example 3: If a task needs to be run every two hours after midnight, then:\n",
    "\n",
    "```bash\n",
    "12 0-23/2 * * * /path/to/mycommand argument1 argument2\n",
    "```\n"
   ]
  },
  {
   "cell_type": "markdown",
   "metadata": {},
   "source": [
    "\n",
    " - In the above, `*` specifies all possible values for that field. and `-` spcifies a range. Similarly, `/` specifies the jump and `,` specifies a list.\n",
    "\n",
    " - By default cron will try to email you the outcome of running the command. We can just redirect it to the commandline. For example:\n",
    "\n",
    "```bash\n",
    "1 2 3 4 5 /path/to/mycommand argument1 argument2 >/dev/null 2>&1\n",
    "```\n",
    " \n",
    " - Additional useful commands are:\n",
    "  - `crontab -l` to list the current jobs, and\n",
    "  - `crontab -r` to remove all current job specifications.\n",
    "\n",
    "\n"
   ]
  },
  {
   "cell_type": "markdown",
   "metadata": {},
   "source": [
    " - System jobs are typically listed in the file `/etc/crontab` or `/etc/cron.d/*` folders. For example, if you open a terminal into the recommend_pipeline container and  install cron, you can see the following output:\n",
    "\n",
    "```bash\n",
    "root@27cf8d2b2681:/# cat /etc/crontab\n",
    "# /etc/crontab: system-wide crontab\n",
    "# Unlike any other crontab you don't have to run the `crontab'\n",
    "# command to install the new version when you edit this file\n",
    "# and files in /etc/cron.d. These files also have username fields,\n",
    "# that none of the other crontabs do.\n",
    "\n",
    "SHELL=/bin/sh\n",
    "PATH=/usr/local/sbin:/usr/local/bin:/sbin:/bin:/usr/sbin:/usr/bin\n",
    "\n",
    "# Example of job definition:\n",
    "# .---------------- minute (0 - 59)\n",
    "# |  .------------- hour (0 - 23)\n",
    "# |  |  .---------- day of month (1 - 31)\n",
    "# |  |  |  .------- month (1 - 12) OR jan,feb,mar,apr ...\n",
    "# |  |  |  |  .---- day of week (0 - 6) (Sunday=0 or 7) OR sun,mon,tue,wed,thu,fri,sat\n",
    "# |  |  |  |  |\n",
    "# *  *  *  *  * user-name command to be executed\n",
    "17 *\t* * *\troot    cd / && run-parts --report /etc/cron.hourly\n",
    "25 6\t* * *\troot\ttest -x /usr/sbin/anacron || ( cd / && run-parts --report /etc/cron.daily )\n",
    "47 6\t* * 7\troot\ttest -x /usr/sbin/anacron || ( cd / && run-parts --report /etc/cron.weekly )\n",
    "52 6\t1 * *\troot\ttest -x /usr/sbin/anacron || ( cd / && run-parts --report /etc/cron.monthly )\n",
    "#\n",
    "```\n",
    "\n",
    " - Here are a couple of useful websites to interpret the expressions: [https://crontab.guru/](https://crontab.guru/) and [http://cron.schlitt.info/](http://cron.schlitt.info/). And [wikipedia](https://en.wikipedia.org/wiki/Cron) does a good job laying out the details of expression design.\n"
   ]
  },
  {
   "cell_type": "markdown",
   "metadata": {},
   "source": [
    "\n",
    " - To get our hands dirty, we can run a simple cron job that appends a word to a file every minute with the specification:\n",
    "\n",
    "```bash\n",
    "* * * * * echo \"hello\" >> /Users/theja/cds/mlops/crontest.log\n",
    "```\n",
    "\n",
    " - And check that the log file is indeed being written to. (Don't forget to delete the job after checking this.)\n",
    "\n"
   ]
  },
  {
   "cell_type": "markdown",
   "metadata": {},
   "source": [
    "\n",
    " - We can run our transient pipeline container (although it is not fetching new data, it is easy to see how it can be integrated with something like BigQuery to read updated training data) every hour using the following entry:\n",
    "\n",
    "```bash\n",
    "# run every hour on the dot\n",
    "0 * * * * docker run recommend_pipeline\n",
    "```\n",
    "\n",
    " - Note that an application started via cron has no connected terminal, so printing to terminal does not work. So to check that your job is indeed working, you can write something to disk (such as to a log file).\n",
    "\n"
   ]
  },
  {
   "cell_type": "markdown",
   "metadata": {},
   "source": [
    "\n",
    "### Running Cron on the Cloud\n",
    "\n",
    " - Cron is provided as a managed option by AWS, Google Cloud and others. We can look at GKE for an example of this.\n",
    "\n",
    "\n",
    " - Note that the key difference between previous docker images and the image we created above is that the former was a web server (a flask app) that used a pretrained model/predictions, whereas the latter is only focused on training and generating predictions. Both are complimentary to each other. In fact, the previous container can be triggered to update its predictions/model for serving after the transient training pipeline is completed. And this can be done in a periodic manner.\n",
    "\n",
    " - Lets come back to scheduling the transient training pipeline as a job on GCP.\n",
    "\n",
    " - To do so, lets repeat the steps to upload our docker image to the container registry. This involves the following steps.\n",
    "\n"
   ]
  },
  {
   "cell_type": "markdown",
   "metadata": {},
   "source": [
    " - First we login via docker using our credentials so that docker can push to the Google container registry.\n",
    "\n",
    "```bash\n",
    "(datasci-dev) ttmac:lec05 theja$ cat model-user.json | docker login -u _json_key --password-stdin https://us.gcr.io\n",
    "Login Succeeded\n",
    "``` \n",
    "\n",
    " - Next we tag our image appropriately to reflect the registry URL and repository name.\n",
    "\n",
    "```bash\n",
    "(datasci-dev) ttmac:lec05 theja$ docker tag recommend_pipeline us.gcr.io/authentic-realm-276822/recommend_pipeline\n",
    "(datasci-dev) ttmac:lec05 theja$ docker images\n",
    "REPOSITORY                                                     TAG                 IMAGE ID            CREATED             SIZE\n",
    "recommend_pipeline                                             latest              12a25accc725        13 hours ago        758MB\n",
    "us.gcr.io/authentic-realm-276822/recommend_pipeline            latest              12a25accc725        13 hours ago        758MB\n",
    "```\n"
   ]
  },
  {
   "cell_type": "markdown",
   "metadata": {},
   "source": [
    "\n",
    " - Finally, lets push the image to the container registry. Here is a snapshot when its still uploading.\n",
    "\n",
    "```bash\n",
    "(datasci-dev) ttmac:lec05 theja$ docker push us.gcr.io/authentic-realm-276822/recommend_pipeline\n",
    "The push refers to repository [us.gcr.io/authentic-realm-276822/recommend_pipeline]\n",
    "4e9c256172e5: Pushed\n",
    "8f8a170d6a46: Pushed\n",
    "d84f1396f776: Pushed\n",
    "ae965efd348c: Pushed\n",
    "0978afbb1068: Pushed\n",
    "3c1ec82efa99: Pushing [>                                                  ]  3.315MB/269.1MB\n",
    "21b00e3fe1bb: Pushing [>                                                  ]  8.079MB/418.4MB\n",
    "d0f104dc0a1f: Layer already exists\n",
    "```\n",
    " - And here is the final result.\n",
    "\n",
    "```bash\n",
    "(datasci-dev) ttmac:lec05 theja$ docker push us.gcr.io/authentic-realm-276822/recommend_pipeline\n",
    "The push refers to repository [us.gcr.io/authentic-realm-276822/recommend_pipeline]\n",
    "4e9c256172e5: Pushed\n",
    "8f8a170d6a46: Pushed\n",
    "d84f1396f776: Pushed\n",
    "ae965efd348c: Pushed\n",
    "0978afbb1068: Pushed\n",
    "3c1ec82efa99: Pushed\n",
    "21b00e3fe1bb: Pushed\n",
    "d0f104dc0a1f: Layer already exists\n",
    "latest: digest: sha256:9df0d99623e6408d187736c2b82a748ed30eeb773dffb70dfffe03aaa7113173 size: 1995\n",
    "```\n"
   ]
  },
  {
   "cell_type": "markdown",
   "metadata": {},
   "source": [
    "\n",
    " - We can verify that the container is uploaded by checking the container registry page in the browser.\n",
    "\n",
    "![gcr1](images/gcr1.png)\n",
    "\n",
    " - We will need the image URL shown below.\n",
    "\n",
    "![gcr2](images/gcr2.png)\n",
    "\n",
    " - More details about this image are available once you click on the image id. We will not be needing this information further, but its a good practice to check it (you can also see how to pull or deploy the image directly from this page).\n",
    "\n",
    "![gcr3](images/gcr3.png)\n",
    "\n"
   ]
  },
  {
   "cell_type": "markdown",
   "metadata": {},
   "source": [
    "\n",
    " - We will now use K8s (GKE) to schedule the image to run periodically.\n",
    "\n",
    " - Note that we are not triggering the python script to run periodically, but creating a new container every time. \n",
    "\n",
    " - This container is downloading the same data in our running example (but it is conceivable how it can be modified to use updated training data).\n",
    " \t- Hint: there is no need to modify the image in our example. We only need to have updated data at the URL from which the data is being read.\n",
    "\n",
    " - Lets set up a K8s cluster next. Navigate to the GKE page.\n"
   ]
  },
  {
   "cell_type": "markdown",
   "metadata": {},
   "source": [
    "\n",
    "![cluster1](images/cluster1.png)\n",
    "\n",
    " - Click 'create a cluster'.\n",
    "\n",
    "![cluster2](images/cluster2.png)\n",
    "\n"
   ]
  },
  {
   "cell_type": "markdown",
   "metadata": {},
   "source": [
    " - We will choose the 'cluster setup guide' option on the right and choose 'my first cluster' (this uses lower end underlying machines). We can see the spec below.\n",
    "\n",
    "![cluster3](images/cluster3.png)\n",
    "\n",
    " - Once the cluster is created, we can view it in the GKE homepage.\n",
    "\n",
    "![cluster4](images/cluster4.png)\n",
    "\n",
    " - We will use `kubectl` to manage this cluster (just like we managed the `minikube` single node cluster).\n",
    "\n",
    " - In particular, we will create a YAML file which will have cron scheduling instructions.\n"
   ]
  },
  {
   "cell_type": "markdown",
   "metadata": {},
   "source": [
    "\n",
    " - Lets connect to the cluster on the homepage. We can get information of how to connect bu clicking the connect link.\n",
    "\n",
    "![connect](images/connect1.png)\n",
    "\n",
    " - Lets choose the 'Run in cloud shell' option. \n",
    "\n",
    "![connect](images/connect2.png)\n",
    "\n"
   ]
  },
  {
   "cell_type": "markdown",
   "metadata": {},
   "source": [
    " - If its the first time, it will instantiate a machine to run the shell.\n",
    "\n",
    "![cloudshell1](images/cloudshell1.png)\n",
    "\n",
    " - Once instantiated, it will show the command we wanted to run to be able to start using the `kubectl` utility to deploy our recommend_pipeline image.\n",
    "\n",
    "![cloudshell2](images/cloudshell2.png)\n"
   ]
  },
  {
   "cell_type": "markdown",
   "metadata": {},
   "source": [
    "\n",
    " - You may run into an authorization issue (gcloud utility does not have the credentials on this machine to access any of the cloud services in our account).\n",
    "\n",
    "![authorize1](images/authorize1.png)\n",
    "\n",
    "```bash\n",
    "theja4gcp@cloudshell:~ (authentic-realm-276822)$ gcloud container clusters get-credentials my-first-cluster-1 --zone us-central1-c -\n",
    "-project authentic-realm-276822\n",
    "ERROR: (gcloud.container.clusters.get-credentials) You do not currently have an active account selected.\n",
    "Please run:\n",
    "  $ gcloud auth login\n",
    "to obtain new credentials.\n",
    "If you have already logged in with a different account:\n",
    "    $ gcloud config set account ACCOUNT\n",
    "to select an already authenticated account to use.\n",
    "```\n",
    "\n"
   ]
  },
  {
   "cell_type": "markdown",
   "metadata": {},
   "source": [
    " - The cloud shell may then complain about the following when you run `gcloud auth login`:\n",
    "\n",
    "```bash\n",
    "theja4gcp@cloudshell:~ (authentic-realm-276822)$ gcloud auth login\n",
    "Go to the following link in your browser:\n",
    "    https://accounts.google.com/o/oauth2/auth?client_id=32555940559.apps.googleusercontent.com&redirect_uri=urn%3Aietf%3Awg%3Aoauth%\n",
    "3A2.0%3Aoob&scope=openid+https%3A%2F%2Fwww.googleapis.com%2Fauth%2Fuserinfo.email+https%3A%2F%2Fwww.googleapis.com%2Fauth%2Fcloud-pl\n",
    "atform+https%3A%2F%2Fwww.googleapis.com%2Fauth%2Fappengine.admin+https%3A%2F%2Fwww.googleapis.com%2Fauth%2Fcompute+https%3A%2F%2Fwww\n",
    ".googleapis.com%2Fauth%2Faccounts.reauth&code_challenge=Vb_NeTDzREqrM34Aiv-64YwhY44vnz9ahbu0idZ0gQM&code_challenge_method=S256&acces\n",
    "s_type=offline&response_type=code&prompt=select_account\n",
    "Enter verification code:\n",
    "``` \n"
   ]
  },
  {
   "cell_type": "markdown",
   "metadata": {},
   "source": [
    "\n",
    " - You will use the code generated as below into the cloud shell.\n",
    "\n",
    "![authorize2](images/authorize2.png)\n",
    "\n",
    " - Once entered, you will see the following success message:\n",
    "```bash\n",
    "You are now logged in as [theja4gcp@gmail.com].\n",
    "Your current project is [authentic-realm-276822].  You can change this setting by running:\n",
    "  $ gcloud config set project PROJECT_ID\n",
    "```\n"
   ]
  },
  {
   "cell_type": "markdown",
   "metadata": {},
   "source": [
    "\n",
    " - Lets run the original gcloud command that was trying to get the credentials for `my-first-cluster` again:\n",
    "\n",
    "```bash\n",
    "theja4gcp@cloudshell:~ (authentic-realm-276822)$ gcloud container clusters get-credentials my-first-cluster-1 --zone us-central1-c -\n",
    "-project authentic-realm-276822\n",
    "Fetching cluster endpoint and auth data.\n",
    "kubeconfig entry generated for my-first-cluster-1.\n",
    "```\n",
    " - We can check the `kubectl` version:\n",
    "\n",
    "```bash\n",
    "theja4gcp@cloudshell:~ (authentic-realm-276822)$ kubectl version\n",
    "Client Version: version.Info{Major:\"1\", Minor:\"19\", GitVersion:\"v1.19.2\", GitCommit:\"f5743093fd1c663cb0cbc89748f730662345d44d\", GitT\n",
    "reeState:\"clean\", BuildDate:\"2020-09-16T13:41:02Z\", GoVersion:\"go1.15\", Compiler:\"gc\", Platform:\"linux/amd64\"}\n",
    "Server Version: version.Info{Major:\"1\", Minor:\"18+\", GitVersion:\"v1.18.6-gke.3504\", GitCommit:\"ebdafa7ed3984f94e1ab914221bf04b62a5cd\n",
    "1b8\", GitTreeState:\"clean\", BuildDate:\"2020-09-09T02:49:12Z\", GoVersion:\"go1.13.9b4\", Compiler:\"gc\", Platform:\"linux/amd64\"}\n",
    "```\n"
   ]
  },
  {
   "cell_type": "markdown",
   "metadata": {},
   "source": [
    "\n",
    " - Next we will create a yaml file in the current directory (using the `vim` text editor) in the cloud shell. The file contents are shown below.\n",
    "\n",
    "```bash\n",
    "apiVersion: batch/v1beta1\n",
    "kind: CronJob\n",
    "metadata:\n",
    "  name: recommend-pipeline-deployment\n",
    "spec:\n",
    "  schedule: \"* * * * *\"\n",
    "  jobTemplate:\n",
    "    spec:\n",
    "      template:\n",
    "        spec:\n",
    "          containers:\n",
    "          - name: recommend-pipeline\n",
    "            image: us.gcr.io/authentic-realm-276822/recommend_pipeline\n",
    "          restartPolicy: OnFailure\n",
    "```\n",
    "\n"
   ]
  },
  {
   "cell_type": "markdown",
   "metadata": {},
   "source": [
    " - Vim specific keys to use are (i for insert, esc to escape from insert mode, 'wq' to write and quit, and 'q!' to quit without any modifications if needed).\n",
    "\n",
    " - Once the yaml file is created as shown below, we can deploy the image:\n",
    "\n",
    "```bash\n",
    "theja4gcp@cloudshell:~ (authentic-realm-276822)$ vim recommend_pipeline.yaml\n",
    "```\n",
    "\n",
    "![vi_terminal](images/vi_terminal.png)\n",
    "\n",
    "```bash\n",
    "theja4gcp@cloudshell:~ (authentic-realm-276822)$ ls\n",
    "README-cloudshell.txt  recommend_pipeline.yaml\n",
    "theja4gcp@cloudshell:~ (authentic-realm-276822)$ kubectl get all\n",
    "NAME                 TYPE        CLUSTER-IP   EXTERNAL-IP   PORT(S)   AGE\n",
    "service/kubernetes   ClusterIP   10.108.0.1   <none>        443/TCP   56m\n",
    "theja4gcp@cloudshell:~ (authentic-realm-276822)$ kubectl apply -f recommend_pipeline.yaml\n",
    "cronjob.batch/recommend-pipeline-deployment created\n",
    "```\n"
   ]
  },
  {
   "cell_type": "markdown",
   "metadata": {},
   "source": [
    "\n",
    " - We can now go to the workloads page of GKE and view the deployment.\n",
    "\n",
    "![deployed1](images/deployed1.png)\n",
    "\n",
    " - Clicking on it gives more information.\n",
    "\n",
    "![deployed2](images/deployed2.png)\n",
    "\n",
    " - You can see at the bottom that it is a 3 node cluster.\n",
    "\n",
    "![deployed3](images/deployed3.png)\n",
    "\n",
    " - Switching to the events tab shows how the cronjob is being run every minute:\n",
    "\n",
    "![deployed4](images/deployed4.png)\n",
    "\n"
   ]
  },
  {
   "cell_type": "markdown",
   "metadata": {},
   "source": [
    " - We can also inspect the BigQuery table details page. Here are two screenshots about 1 minute apart from each other:\n",
    "\n",
    "\n",
    "![updatecheck1](images/updatecheck1.png)\n",
    "\n",
    "![updatecheck2](images/updatecheck2.png)\n",
    "\n"
   ]
  },
  {
   "cell_type": "markdown",
   "metadata": {},
   "source": [
    "\n",
    " - Great, so we have run a cron job on the cloud. A key benefit of doing this on the cloud is fault tolerance.\n",
    "\n",
    "\n",
    " - To wrap up things, we can delete the deployment using the following command:\n",
    "\n",
    "```bash\n",
    "theja4gcp@cloudshell:~ (authentic-realm-276822)$ kubectl delete -f recommend_pipeline.yaml\n",
    "cronjob.batch \"recommend-pipeline-deployment\" deleted\n",
    "theja4gcp@cloudshell:~ (authentic-realm-276822)$ kubectl get all\n",
    "NAME                 TYPE        CLUSTER-IP   EXTERNAL-IP   PORT(S)   AGE\n",
    "service/kubernetes   ClusterIP   10.108.0.1   <none>        443/TCP   73m\n",
    "```\n",
    "\n"
   ]
  },
  {
   "cell_type": "markdown",
   "metadata": {},
   "source": [
    " - You can see the deployment getting terminated in the browser as well.\n",
    "\n",
    "![terminate1](images/terminate1.png)\n",
    "\n",
    " - Finally, we can also terminate the cluster.\n",
    "\n",
    "![terminate2](images/terminate2.png)\n",
    "\n"
   ]
  },
  {
   "cell_type": "markdown",
   "metadata": {},
   "source": [
    " - We have only scratched the surface of scheduled jobs. Both cron on a self-hosted instance as well as K8s scheduling are very powerful for automation. It is worthwhile delving deeper into these using the resources linked throughout this section.\n"
   ]
  },
  {
   "cell_type": "markdown",
   "metadata": {},
   "source": []
  }
 ],
 "metadata": {
  "kernelspec": {
   "display_name": "Python 3",
   "language": "python",
   "name": "python3"
  },
  "language_info": {
   "name": ""
  }
 },
 "nbformat": 4,
 "nbformat_minor": 4
}
