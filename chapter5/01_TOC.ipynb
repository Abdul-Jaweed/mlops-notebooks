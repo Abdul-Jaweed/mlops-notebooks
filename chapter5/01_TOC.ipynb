{
 "cells": [
  {
   "cell_type": "markdown",
   "metadata": {},
   "source": [
    "## Outline\n",
    "\n",
    "- [Data Science Workflows](02_Data_Science_Workflows.ipynb)\n",
    "- [Simple Pipelines](03_Simple_Pipelines.ipynb)\n",
    "- [Scheduling Pipelines with CRON](04_Cron_Jobs.ipynb)\n",
    "- [Pipelines with Apache Airflow](05_Apache_Airflow.ipynb)\n",
    "- [Exercises](06_Exercises.ipynb)"
   ]
  },
  {
   "cell_type": "code",
   "execution_count": null,
   "metadata": {},
   "outputs": [],
   "source": []
  }
 ],
 "metadata": {
  "kernelspec": {
   "display_name": "Python 3",
   "language": "python",
   "name": "python3"
  },
  "language_info": {
   "codemirror_mode": {
    "name": "ipython",
    "version": 3
   },
   "file_extension": ".py",
   "mimetype": "text/x-python",
   "name": "python",
   "nbconvert_exporter": "python",
   "pygments_lexer": "ipython3",
   "version": 3
  }
 },
 "nbformat": 4,
 "nbformat_minor": 4
}
