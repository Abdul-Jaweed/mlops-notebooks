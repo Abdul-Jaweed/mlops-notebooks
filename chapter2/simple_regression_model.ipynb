{
 "metadata": {
  "language_info": {
   "codemirror_mode": {
    "name": "ipython",
    "version": 3
   },
   "file_extension": ".py",
   "mimetype": "text/x-python",
   "name": "python",
   "nbconvert_exporter": "python",
   "pygments_lexer": "ipython3",
   "version": "3.8.5-final"
  },
  "orig_nbformat": 2,
  "kernelspec": {
   "name": "python3",
   "display_name": "Python 3"
  }
 },
 "nbformat": 4,
 "nbformat_minor": 2,
 "cells": [
  {
   "source": [
    "### Simple 1D regression model with no dependencies"
   ],
   "cell_type": "markdown",
   "metadata": {}
  },
  {
   "cell_type": "code",
   "execution_count": 10,
   "metadata": {},
   "outputs": [],
   "source": [
    "import numpy as np\n",
    "import math\n",
    "X = np.array([1,2,3,5])\n",
    "Y = 2.5*X + 3 # y = 1 * x_0 + 2 * x_1 + 3"
   ]
  },
  {
   "cell_type": "code",
   "execution_count": 11,
   "metadata": {},
   "outputs": [],
   "source": [
    "\n",
    "def fit(X, Y):\n",
    "    \"\"\"\n",
    "    From https://code.activestate.com/recipes/578914-simple-linear-regression-with-pure-python/\n",
    "    \"\"\"\n",
    "\n",
    "    def mean(Xs):\n",
    "        return sum(Xs) / len(Xs)\n",
    "\n",
    "    m_X = mean(X)\n",
    "    m_Y = mean(Y)\n",
    "\n",
    "    def std(Xs, m):\n",
    "        normalizer = len(Xs) - 1\n",
    "        return math.sqrt(sum((pow(x - m, 2) for x in Xs)) / normalizer)\n",
    "\n",
    "    def pearson_r(Xs, Ys):\n",
    "\n",
    "        sum_xy = 0\n",
    "        sum_sq_v_x = 0\n",
    "        sum_sq_v_y = 0\n",
    "\n",
    "        for (x, y) in zip(Xs, Ys):\n",
    "            var_x = x - m_X\n",
    "            var_y = y - m_Y\n",
    "            sum_xy += var_x * var_y\n",
    "            sum_sq_v_x += pow(var_x, 2)\n",
    "            sum_sq_v_y += pow(var_y, 2)\n",
    "        return sum_xy / math.sqrt(sum_sq_v_x * sum_sq_v_y)\n",
    "\n",
    "    r = pearson_r(X, Y)\n",
    "\n",
    "    b = r * (std(Y, m_Y) / std(X, m_X))\n",
    "    A = m_Y - b * m_X\n",
    "\n",
    "    def line(x):\n",
    "        return b * x + A\n",
    "\n",
    "    return line\n",
    "\n"
   ]
  },
  {
   "cell_type": "code",
   "execution_count": 13,
   "metadata": {},
   "outputs": [],
   "source": [
    "model = fit(X,Y)\n",
    "print('2',model(2))\n",
    "print('-1',model(-1))\n",
    "print('0',model(0))"
   ]
  }
 ]
}