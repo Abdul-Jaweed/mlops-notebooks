{
 "cells": [
  {
   "cell_type": "markdown",
   "metadata": {},
   "source": [
    "## Exercises\n"
   ]
  },
  {
   "cell_type": "markdown",
   "metadata": {},
   "source": [
    "1. Find out how serverless technologies work behind the scene.\n",
    "\n",
    "2. Connect your custom domain to the GCP Cloudn Function and the API Gateway/Lambda function in AWS.\n",
    "\n",
    "3. Learn command line tools for GCP and the difference between programmatic access and manual access.\n",
    "\n",
    "4. Learn about identities, roles and access aspects in GCP and AWS.\n",
    "\n",
    "5. Try deploying a [different](https://github.com/lyst/lightfm) recommendation model."
   ]
  },
  {
   "cell_type": "code",
   "execution_count": null,
   "metadata": {},
   "outputs": [],
   "source": []
  }
 ],
 "metadata": {
  "kernelspec": {
   "display_name": "Python 3",
   "language": "python",
   "name": "python3"
  },
  "language_info": {
   "codemirror_mode": {
    "name": "ipython",
    "version": 3
   },
   "file_extension": ".py",
   "mimetype": "text/x-python",
   "name": "python",
   "nbconvert_exporter": "python",
   "pygments_lexer": "ipython3",
   "version": "3.7.6"
  }
 },
 "nbformat": 4,
 "nbformat_minor": 4
}
