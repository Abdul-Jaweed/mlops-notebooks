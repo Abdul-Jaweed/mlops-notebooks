{
 "metadata": {
  "language_info": {
   "codemirror_mode": {
    "name": "ipython",
    "version": 3
   },
   "file_extension": ".py",
   "mimetype": "text/x-python",
   "name": "python",
   "nbconvert_exporter": "python",
   "pygments_lexer": "ipython3",
   "version": 3
  },
  "orig_nbformat": 2
 },
 "nbformat": 4,
 "nbformat_minor": 2,
 "cells": [
  {
   "source": [
    "## Outline\n",
    "\n",
    "- [Serverless Deployments](02_Serverless_Deployments.ipynb)\n",
    "- [Cloud Functions](03_Cloud_Functions.ipynb)\n",
    "- [GCP Serverless Model Serving](04_GCP_Serverless_Model_Serving.ipynb)\n",
    "- [Lambda Functions](05_Lambda_Functions.ipynb)\n",
    "- [AWS Serverless Model Serving](06_AWS_Serverless_Model_Serving.ipynb)\n",
    "- [Exercises](07_Exercises.ipynb)"
   ],
   "cell_type": "markdown",
   "metadata": {}
  }
 ]
}