{
 "cells": [
  {
   "cell_type": "markdown",
   "metadata": {},
   "source": [
    "## Outline\n",
    "\n",
    "- [Serverless Deployments](02_Serverless_Deployments.ipynb)\n",
    "- [Cloud Functions](03_Cloud_Functions.ipynb)\n",
    "- [GCP Serverless Model Serving](04_GCP_Serverless_Model_Serving.ipynb)\n",
    "- [Lambda Functions](05_Lambda_Functions.ipynb)\n",
    "- [AWS Serverless Model Serving](06_AWS_Serverless_Model_Serving.ipynb)\n",
    "- [Exercises](07_Exercises.ipynb)"
   ]
  }
 ],
 "metadata": {
  "kernelspec": {
   "display_name": "Python 3",
   "language": "python",
   "name": "python3"
  },
  "language_info": {
   "codemirror_mode": {
    "name": "ipython",
    "version": 3
   },
   "file_extension": ".py",
   "mimetype": "text/x-python",
   "name": "python",
   "nbconvert_exporter": "python",
   "pygments_lexer": "ipython3",
   "version": "3.7.6"
  }
 },
 "nbformat": 4,
 "nbformat_minor": 4
}
