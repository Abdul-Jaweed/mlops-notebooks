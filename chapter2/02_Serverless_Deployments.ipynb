{
 "metadata": {
  "language_info": {
   "codemirror_mode": {
    "name": "ipython",
    "version": 3
   },
   "file_extension": ".py",
   "mimetype": "text/x-python",
   "name": "python",
   "nbconvert_exporter": "python",
   "pygments_lexer": "ipython3",
   "version": "3.8.5-final"
  },
  "orig_nbformat": 2,
  "kernelspec": {
   "name": "python3",
   "display_name": "Python 3"
  }
 },
 "nbformat": 4,
 "nbformat_minor": 2,
 "cells": [
  {
   "source": [
    "# Serverless Deployments\n",
    "\n",
    "- Managed Solutions\n",
    "- Cloud Functions (GCP)\n",
    "- Lambda Functions (AWS)"
   ],
   "cell_type": "markdown",
   "metadata": {}
  },
  {
   "source": [
    "> Models do not need to be complex, but it can be complex to deploy models. - Ben Weber (2020)\n"
   ],
   "cell_type": "markdown",
   "metadata": {}
  },
  {
   "source": [
    "#### Problem\n",
    "\n",
    " - We have to take care of provisioning and server maintenance while deploying our models.\n",
    " - We have to worry about scale: would 1 server be enough?\n",
    " - How to minimize the time to deploy (at an acceptable increase in cost)?\n",
    " - How can a single developer or data science/analytics professional manage a complex service?\n",
    "\n",
    "#### Solution\n",
    "\n",
    " - Software that abstracts away server details and lets you serve your model (any function actually) with few lines of code/UI. \n",
    "\n",
    " - The software automates:\n",
    "   - Provising servers\n",
    "   - Scaling machines up and down\n",
    "   - Load balancing\n",
    "   - Code versioning\n",
    "   \n",
    " - Our task is then to write our business logic and specify the requirements (e.g., pandas, pytorch)."
   ],
   "cell_type": "markdown",
   "metadata": {}
  },
  {
   "source": [
    "## Managed Services\n",
    "\n",
    "- Cloud is responsible for abstracting away various computing components: compute, storage, networking etc.\n",
    "\n",
    "- Minimizes thinking about dev/staging vs production.\n",
    "\n",
    "- _Note: what we did in the previous chapter,i.e., ssh'ing into a virtual private server (VPS), would be considered as a hosted deployment, which is the opposite of managed deployment_\n",
    "\n",
    "- For example, serverless technology was introduced in 2015/2016 by AWS (Amazon web) and GCP (Google cloud). It contrasts with a VPS based deployment. Similarly, AWS ECS (Elastic Container Service) managed solution contrasts with the hosted/manual Docker on VPS setup.\n",
    "\n",
    "#### When is a managed solution a bad idea?\n",
    "\n",
    "- No need for quick iteration (company cares about processes and protocols).\n",
    "- Need a high speed service.\n",
    "- No need to scale system arbirarily.\n",
    "- Cost conscious or have an in-house developer."
   ],
   "cell_type": "markdown",
   "metadata": {}
  },
  {
   "source": [
    "### Our Objective\n",
    "\n",
    "- Write serverless functions that generate predictions when they get triggered by HTTP requests.\n",
    "- We will work with:\n",
    "  - AWS\n",
    "  - GCP\n",
    "- We will try to deploy the two recommendation models we saw before:\n",
    "  - the pytorch model, and \n",
    "  - the sklearn-_like_ model (using surpriselib)."
   ],
   "cell_type": "markdown",
   "metadata": {}
  }
 ]
}