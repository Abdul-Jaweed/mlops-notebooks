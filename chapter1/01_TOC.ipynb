{
 "cells": [
  {
   "cell_type": "markdown",
   "metadata": {},
   "source": [
    "## Outline\n",
    "\n",
    "- [Basics](02_Basics.ipynb)\n",
    "- [SSH and Firewall](03_SSH_and_Firewall.ipynb)\n",
    "- [Intro and Setup of Python](04_Intro_and_Setup_Pyhon.ipynb)\n",
    "- [Recommendation Models](05_Recommendation_Models.ipynb)\n",
    "- [Serving using Webservers](06_Serving_using_Webservers.ipynb)\n",
    "- [Flask based Model Serving](07_Flask_Apps.ipynb)\n",
    "- [Exercises](08_Exercises.ipynb)"
   ]
  }
 ],
 "metadata": {
  "kernelspec": {
   "display_name": "Python 3",
   "language": "python",
   "name": "python3"
  },
  "language_info": {
   "codemirror_mode": {
    "name": "ipython",
    "version": 3
   },
   "file_extension": ".py",
   "mimetype": "text/x-python",
   "name": "python",
   "nbconvert_exporter": "python",
   "pygments_lexer": "ipython3",
   "version": "3.7.6"
  }
 },
 "nbformat": 4,
 "nbformat_minor": 4
}
