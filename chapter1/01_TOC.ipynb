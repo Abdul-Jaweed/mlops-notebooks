{
 "metadata": {
  "language_info": {
   "codemirror_mode": {
    "name": "ipython",
    "version": 3
   },
   "file_extension": ".py",
   "mimetype": "text/x-python",
   "name": "python",
   "nbconvert_exporter": "python",
   "pygments_lexer": "ipython3",
   "version": "3.8.5-final"
  },
  "orig_nbformat": 2,
  "kernelspec": {
   "name": "python3",
   "display_name": "Python 3"
  }
 },
 "nbformat": 4,
 "nbformat_minor": 2,
 "cells": [
  {
   "source": [
    "## Outline\n",
    "\n",
    "- [Basics](02_Basics.ipynb)\n",
    "- [SSH and Firewall](03_SSH_and_Firewall.ipynb)\n",
    "- [Intro and Setup of Python](04_Intro_and_Setup_Pyhon.ipynb)\n",
    "- [Recommendation Models](05_Recommendation_Models.ipynb)\n",
    "- [Serving using Webservers](06_Serving_using_Webservers.ipynb)\n",
    "- [Flask based Model Serving](07_Flask_Apps.ipynb)\n",
    "- [Exercises](08_Exercises.ipynb)"
   ],
   "cell_type": "markdown",
   "metadata": {}
  }
 ]
}