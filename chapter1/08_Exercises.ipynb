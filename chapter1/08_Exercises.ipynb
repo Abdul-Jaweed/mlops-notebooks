{
 "metadata": {
  "language_info": {
   "codemirror_mode": {
    "name": "ipython",
    "version": 3
   },
   "file_extension": ".py",
   "mimetype": "text/x-python",
   "name": "python",
   "nbconvert_exporter": "python",
   "pygments_lexer": "ipython3",
   "version": 3
  },
  "orig_nbformat": 2
 },
 "nbformat": 4,
 "nbformat_minor": 2,
 "cells": [
  {
   "source": [
    "## Exercises\n",
    "\n",
    "\n",
    "1. Deploy model on Heroku with Gunicorn.\n",
    "\n",
    "2. Set up your custom domain to point to your VPS.\n",
    "\n",
    "3. Repeat the setup on AWS, GCP, DigitalOcean, Vultr or any other VPS of your choice.\n",
    "\n",
    "4. Read the documentation for flask, [mlflow](https://www.mlflow.org/docs/latest/tutorials-and-examples/tutorial.html), pytorch, surprise, pandas.\n",
    "\n",
    "5. Replace Flask with [Django](https://www.djangoproject.com/) and [Starlette](https://www.starlette.io/).\n",
    "\n",
    "6. Read up about function decorators in Python (see [here](https://pythonbasics.org/decorators/) and [here](https://www.csestack.org/python-decorators/) for instance). Function decorators add functionality to an existing function, and are an example of metaprogramming.\n",
    "\n",
    "7. Try to set up HTTPS with [Lets Encrypt](https://letsencrypt.org/) for the flask based model deployed on a single VPS such as EC2. \n",
    "\n",
    "8. Add a WSGI server such as `gunicorn` to your web server (not Heroku). A Web Server Gateway Interface (WSGI) server implements the web server side of the WSGI interface for running Python web applications. See [here](https://www.fullstackpython.com/wsgi-servers.html).\n"
   ],
   "cell_type": "markdown",
   "metadata": {}
  },
  {
   "cell_type": "code",
   "execution_count": null,
   "metadata": {},
   "outputs": [],
   "source": []
  }
 ]
}