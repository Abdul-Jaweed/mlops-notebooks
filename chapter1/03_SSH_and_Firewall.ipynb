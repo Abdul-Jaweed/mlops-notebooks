{
 "metadata": {
  "language_info": {
   "codemirror_mode": {
    "name": "ipython",
    "version": 3
   },
   "file_extension": ".py",
   "mimetype": "text/x-python",
   "name": "python",
   "nbconvert_exporter": "python",
   "pygments_lexer": "ipython3",
   "version": "3.8.5-final"
  },
  "orig_nbformat": 2,
  "kernelspec": {
   "name": "python3",
   "display_name": "Python 3"
  }
 },
 "nbformat": 4,
 "nbformat_minor": 2,
 "cells": [
  {
   "source": [
    "## SSH and Firewall"
   ],
   "cell_type": "markdown",
   "metadata": {}
  },
  {
   "source": [
    "It is important to secure your connection to the remote machine. In order to do so, we will configure a secure access pattern using `ssh`, as well as set up a firewall that blocks all incoming requests except to the `ssh port 22` (and optionally, the web server ports).\n",
    "\n",
    "We will assume that we have a non-root account that is in the `sudoers` group (these are system administrators who have absolute control of everything on the machine). If not one can follow a minimal number of [steps](https://www.digitalocean.com/community/tutorials/how-to-create-a-new-sudo-enabled-user-on-ubuntu-20-04-quickstart) as the root user to get such a non-root account:\n",
    "```bash\n",
    "adduser theja\n",
    "usermod -aG sudo theja\n",
    "su - theja #this is for checking\n",
    "sudo ls /root/ #if user `theja` can access this directory, then they are in the sudoers group\n",
    "\n",
    "```\n",
    "\n",
    "### SSH\n",
    "\n",
    " - When you first create the server instance, you may or may not have the ssh server running. If it is not running, you can install it first. On Ubuntu/Debian, you can use the following [command](https://ubuntu.com/server/docs/service-openssh):\n",
    "\n",
    "```bash\n",
    "sudo apt install openssh-server\n",
    "```\n",
    "\n",
    " - Next, we will create a ssh keypair on our local machine with which we can access the server in a secure manner. From your _local_ user home directory:\n",
    "\n",
    "```bash\n",
    "mkdir .ssh\n",
    "ssh-keygen\n",
    "cd .ssh\n",
    "less id_rsa.pub\n",
    "```\n",
    "\n",
    " - Copy this content to the following file `authorized_keys` in the webserver:\n",
    "\n",
    "```bash\n",
    "mkdir .ssh\n",
    "vim authorized_keys #if vim is not present, you can use other editors or install it using `sudo apt install vim`\n",
    "#copy the content and quit (shift+colon> wq -> enter)\n",
    "chmod 600 authorized_keys\n",
    "```\n",
    "\n",
    " - We need to ideally edit the following fields in the file `/etc/ssh/sshd_config` on the server (say using `vim`):\n",
    "   - `PermitRootLogin no` (changed from prohibit-password)\n",
    "   - `PasswordAuthentication no` (disable it for security)\n",
    "   - (Optionally) change the `Port` number to something else other than 22 (e.g., 59400)\n",
    "\n",
    " - Restart the ssh server. In Ubuntu/Debian this is achieved by `sudo systemctl restart ssh`\n",
    "\n",
    "### Firewall\n",
    "\n",
    " - A basic firewall such as [ufw](https://help.ubuntu.com/community/UFW) can help provide a layer of security.\n",
    " - Install and run it using the following commands (Ubuntu/Debian):\n",
    "\n",
    "```bash\n",
    "sudo apt install ufw\n",
    "sudo ufw allow [PortNumber] #here it is 22 or another port that you chose for ssh\n",
    "sudo ufw enable\n",
    "sudo ufw status verbose #this should show what the firewall is doing\n",
    "```"
   ],
   "cell_type": "markdown",
   "metadata": {}
  },
  {
   "cell_type": "code",
   "execution_count": null,
   "metadata": {},
   "outputs": [],
   "source": []
  }
 ]
}