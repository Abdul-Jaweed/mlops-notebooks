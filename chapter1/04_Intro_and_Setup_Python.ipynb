{
 "metadata": {
  "language_info": {
   "codemirror_mode": {
    "name": "ipython",
    "version": 3
   },
   "file_extension": ".py",
   "mimetype": "text/x-python",
   "name": "python",
   "nbconvert_exporter": "python",
   "pygments_lexer": "ipython3",
   "version": "3.8.5-final"
  },
  "orig_nbformat": 2,
  "kernelspec": {
   "name": "python3",
   "display_name": "Python 3"
  }
 },
 "nbformat": 4,
 "nbformat_minor": 2,
 "cells": [
  {
   "source": [
    "## Setting up Python"
   ],
   "cell_type": "markdown",
   "metadata": {}
  },
  {
   "source": [
    "\n",
    "Here are a few notes on installing a user specific python distribution:\n",
    "\n",
    "#### Get Miniconda\n",
    "\n",
    "```bash\n",
    "  wget https://repo.anaconda.com/miniconda/Miniconda3-latest-Linux-x86_64.sh\n",
    "  chmod +x Miniconda3-latest-Linux-x86_64.sh\n",
    "  conda install pip #better to use the pip in the base conda env than system/OS/preinstalled pip\n",
    "```\n",
    "\n",
    "The difference between `conda` and `pip`: pip is a package manager specifically for python, whereas conda is a package manager for multiple languages as well as an *environment manager*. Python module `venv` is python specific environment manager.\n",
    "\n",
    "\n",
    "#### Set up a conda environment and activate it\n",
    "\n",
    "\n",
    "```bash\n",
    "conda create --name datasci-env python #or\n",
    "conda create -n dataeng-env python jupyter pandas numpy matplotlib #or\n",
    "conda create -n datasci-env scipy=0.15.0 #or\n",
    "conda env create -f environment.yml #where the environment.yml needs to be available beforehand\n",
    "\n",
    "conda activate datasci-env\n",
    "```\n",
    "\n",
    " - The create command has many options. For instance: (a) we don't have to give names, (b) we can give prefixes where the env is saved, (c) we can create based on specific packages, (d) we can use explicit previous conda environments using yaml files or by clone/update an existing one, etc. Use this [link](https://docs.conda.io/projects/conda/en/latest/user-guide/tasks/manage-environments.html) to get more information.\n",
    "\n",
    " - Specifying a path to a subdirectory of your project directory when creating an environment can keep everything 100% self contained.\n",
    "\n",
    " - To deactivate this environment, use `conda deactivate datasci-env`.\n",
    "\n",
    "#### Install jupyter and pytorch (and tensorflow, keras, scikit-learn similarly) in a specific environment\n",
    "\n",
    "```bash\n",
    "conda install jupyter\n",
    "conda install pytorch torchvision cpuonly -c pytorch # https://pytorch.org/\n",
    "```\n",
    " - Change the command for pytorch installation if you do intend to use GPUs. In particular, install CUDA from conda after installing the latest NVidia drivers on the machine/instance.\n",
    "\n",
    "\n",
    "\n"
   ],
   "cell_type": "markdown",
   "metadata": {}
  },
  {
   "source": [
    "## Remote Jupyter Server\n",
    "\n",
    "\n",
    "\n",
    "The following sets a simple password based login, which is handy:\n",
    "\n",
    "```bash\n",
    "jupyter notebook --generate-config\n",
    "jupyter notebook password\n",
    "```\n",
    "\n",
    "Unfortuantely, hashed password is sent unencrypted by your browser here. So read up [here](https://jupyter-notebook.readthedocs.io/en/stable/public_server.html) to do this in a better way.\n",
    "\n",
    "Starting jupyter on the server can be done inside a `screen` session so even if you close the terminal that was connected to the remote machine, your jupyter server continues to run:\n",
    "\n",
    "```bash\n",
    "screen -S jupyter-session #can also use nohup or tmux here\n",
    "jupyter notebook --no-browser --port=8888\n",
    "```\n",
    "\n",
    "SSH tunnel can be setup by running the following on your local machine, and then opening the browser (`http://localhost:8889`)\n",
    "\n",
    "```bash\n",
    "ssh -N -f -L localhost:8889:localhost:8888 -p 22 username@ipaddress\n",
    "```"
   ],
   "cell_type": "markdown",
   "metadata": {}
  },
  {
   "cell_type": "code",
   "execution_count": null,
   "metadata": {},
   "outputs": [],
   "source": []
  }
 ]
}