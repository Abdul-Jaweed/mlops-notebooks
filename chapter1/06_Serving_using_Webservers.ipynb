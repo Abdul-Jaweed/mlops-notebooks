{
 "metadata": {
  "language_info": {
   "codemirror_mode": {
    "name": "ipython",
    "version": 3
   },
   "file_extension": ".py",
   "mimetype": "text/x-python",
   "name": "python",
   "nbconvert_exporter": "python",
   "pygments_lexer": "ipython3",
   "version": 3
  },
  "orig_nbformat": 2
 },
 "nbformat": 4,
 "nbformat_minor": 2,
 "cells": [
  {
   "source": [
    "## Serving ML Models Using Web Servers"
   ],
   "cell_type": "markdown",
   "metadata": {}
  },
  {
   "source": [
    "\n",
    "### Model Serving\n",
    "\n",
    "- Sharing results with others (humans, web services, applications)\n",
    "- Batch approach: dump predictions to a database (quite popular)\n",
    "- Real-time approach: send a test feature vector, get back the prediction instantly and the computation happens now\n",
    "\n",
    "### How to consume from prediction services?\n",
    "\n",
    "- Using web requests (e.g., using a JSON payload)\n",
    "\n",
    "### How to output predictions?\n",
    "\n",
    "- We will plan to set up a server to serve predictions\n",
    "  - It will respond to web requests (GET, POST)\n",
    "    - We pass some inputs (image, text, vector of numbers), and get some outputs (just like a function)\n",
    "    - The environment from which we pass inputs may be very different from the environment where the prediction happens (e.g., different hardware)\n",
    "\n",
    "\n",
    "\n",
    "### Our Objective\n",
    "\n",
    "- Use sklearn/keras with flask, gunicorn and heroku to set up a prediction server\n",
    "\n",
    "### Part 1: Making API Calls\n",
    "\n",
    "- Using the `requests` module from a jupyter notebook (this is an example of a programmatic way)\n",
    "- Alternatively, using `curl` or `postman` (these are more versatile)\n",
    "\n",
    "### Part 2: Simple Flask App  \n",
    "\n",
    " - Function decorators are used in Flask to achive routes to functions mapping.\n",
    " - Integrating the model with the app is relatively easy if the model can be read from disk."
   ],
   "cell_type": "markdown",
   "metadata": {}
  }
 ]
}