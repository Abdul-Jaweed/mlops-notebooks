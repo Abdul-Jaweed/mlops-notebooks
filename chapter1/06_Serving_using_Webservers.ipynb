{
 "metadata": {
  "language_info": {
   "codemirror_mode": {
    "name": "ipython",
    "version": 3
   },
   "file_extension": ".py",
   "mimetype": "text/x-python",
   "name": "python",
   "nbconvert_exporter": "python",
   "pygments_lexer": "ipython3",
   "version": 3
  },
  "orig_nbformat": 2
 },
 "nbformat": 4,
 "nbformat_minor": 2,
 "cells": [
  {
   "source": [
    "## Serving ML Models Using Web Servers"
   ],
   "cell_type": "markdown",
   "metadata": {}
  },
  {
   "source": [
    "\n",
    "### Model Serving\n",
    "\n",
    "- Sharing results with others (team members, other business orgs, customers, web services, applications)\n",
    "- Batch approach: dump predictions to a database (quite popular)\n",
    "- Real-time approach: send a test feature vector and get back the prediction (the inference step happens just-in-time)\n",
    "\n",
    "### How to consume from prediction services?\n",
    "\n",
    "- Using web requests (e.g., using a JSON payload)\n",
    "\n",
    "### How to output predictions?\n",
    "\n",
    "- We will plan to set up a server to serve predictions\n",
    "  - It will respond to web requests (GET, POST)\n",
    "    - We pass some inputs (image, text, vector of numbers), and get some outputs (just like a function).\n",
    "    - The environment from which we pass inputs may be very different from the environment where the prediction happens (e.g., different hardware).\n",
    "\n",
    "\n",
    "\n",
    "### Our Objective\n",
    "\n",
    "- Use pytorch/surpriselib with the `flask` web framework (see how to use `gunicorn` and Heroku PaaS in the exercises section) to set up a prediction server.\n",
    "\n",
    "### Part 1: Making API Calls\n",
    "\n",
    "- Using the `requests` module from a jupyter notebook (this is an example of a programmatic way to get any information from other machines on the internet).\n",
    "- Alternatively, we can use commandline tools such as `curl` or commercial/GUI tools such as `postman` (these serve different needs of end users).\n",
    "\n",
    "### Part 2: Simple Flask App  \n",
    "\n",
    " - Function decorators are used in Flask to achieve _routes to functions_ mapping.\n",
    " - Integrating the model with the app is relatively easy if the model can be read from disk."
   ],
   "cell_type": "markdown",
   "metadata": {}
  },
  {
   "cell_type": "code",
   "execution_count": null,
   "metadata": {},
   "outputs": [],
   "source": []
  }
 ]
}