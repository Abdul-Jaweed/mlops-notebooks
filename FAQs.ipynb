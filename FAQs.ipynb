{
 "metadata": {
  "language_info": {
   "codemirror_mode": {
    "name": "ipython",
    "version": 3
   },
   "file_extension": ".py",
   "mimetype": "text/x-python",
   "name": "python",
   "nbconvert_exporter": "python",
   "pygments_lexer": "ipython3",
   "version": 3
  },
  "orig_nbformat": 2
 },
 "nbformat": 4,
 "nbformat_minor": 2,
 "cells": [
  {
   "source": [
    "### Accessing a remote VM fro Windows\n",
    "[Link to Zoom Recording on 2021-01-25](https://uic.zoom.us/rec/share/NVfTo8ITWhEpi2YlbonTLiM54ADrKFs-8UAtpx2oO4IYVcJDt3X9qrrHRqCJtMrF._hTxjQeSjdUPlRhB?startTime=1611616523000)"
   ],
   "cell_type": "markdown",
   "metadata": {}
  },
  {
   "cell_type": "code",
   "execution_count": null,
   "metadata": {},
   "outputs": [],
   "source": []
  }
 ]
}