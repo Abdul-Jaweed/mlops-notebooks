{
 "cells": [
  {
   "cell_type": "markdown",
   "metadata": {},
   "source": [
    "### 1. Accessing a remote VM from Windows\n",
    "[Link to Zoom Recording on 2021-01-25](https://uic.zoom.us/rec/share/NVfTo8ITWhEpi2YlbonTLiM54ADrKFs-8UAtpx2oO4IYVcJDt3X9qrrHRqCJtMrF._hTxjQeSjdUPlRhB?startTime=1611616523000)"
   ]
  },
  {
   "cell_type": "markdown",
   "metadata": {},
   "source": [
    "### 2. Code scripts from the notes\n",
    "[https://github.com/thejat/mlops-code-examples](https://github.com/thejat/mlops-code-examples)"
   ]
  },
  {
   "cell_type": "markdown",
   "metadata": {},
   "source": [
    "### 3. To transfer files between a server (EC2 instance) and your local machine\n",
    "\n",
    "#### MacOS: Uisng Fetch \n",
    "\n",
    " - Get it for free at the [UIC webstore](https://webstore.illinois.edu/shop/product.aspx?zpid=1244).\n",
    " - How to connect [tutorial](https://fetchsoftworks.com/fetch/help/Contents/Tutorial/TutorialConnecting.html)\n",
    " - How to use pem file: see [here](https://fetchsoftworks.com/fetch/messageboard/connect-via-sftp-using-a-pem-codepublic-key-certificate) and [here](\n",
    "http://fetchsoftworks.com/fetch/messageboard/sftp-with-public-key-how).\n",
    "\n",
    "#### Windows: Using Filezilla\n",
    "\n",
    " - Get it for free [here](https://filezilla-project.org/download.php).\n",
    " - How to connect: see [tutorial](https://wiki.filezilla-project.org/FileZilla_Client_Tutorial_(en)).\n",
    " - How to use pem file: see [here](https://wiki.filezilla-project.org/Howto)."
   ]
  },
  {
   "cell_type": "markdown",
   "metadata": {},
   "source": []
  }
 ],
 "metadata": {
  "kernelspec": {
   "display_name": "Python 3",
   "language": "python",
   "name": "python3"
  },
  "language_info": {
   "codemirror_mode": {
    "name": "ipython",
    "version": 3
   },
   "file_extension": ".py",
   "mimetype": "text/x-python",
   "name": "python",
   "nbconvert_exporter": "python",
   "pygments_lexer": "ipython3",
   "version": "3.8.5"
  }
 },
 "nbformat": 4,
 "nbformat_minor": 4
}
