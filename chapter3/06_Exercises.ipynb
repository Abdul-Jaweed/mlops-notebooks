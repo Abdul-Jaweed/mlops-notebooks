{
 "metadata": {
  "language_info": {
   "codemirror_mode": {
    "name": "ipython",
    "version": 3
   },
   "file_extension": ".py",
   "mimetype": "text/x-python",
   "name": "python",
   "nbconvert_exporter": "python",
   "pygments_lexer": "ipython3",
   "version": 3
  },
  "orig_nbformat": 2
 },
 "nbformat": 4,
 "nbformat_minor": 2,
 "cells": [
  {
   "source": [
    "## Exercises\n",
    "\n",
    "\n",
    "1. Deploy your image to Docker Hub container registry (needs an account, has free tier limits).\n",
    "\n",
    "2. Run a container using the [python images](https://hub.docker.com/_/python/) from Docker Hub.\n",
    "\n",
    "3. Try to minimize the size of the docker images produced.\n",
    "\n",
    "4. Add checks for out of bound queries in your recommendation function (e.g., http://localhost/?uid=2000 will give a value error on the server and the browser will show that an internal server error occured).\n",
    "\n",
    "5. Add a load balancer to the ECS deployment and study what it does.\n",
    "\n",
    "6. Replicate the linked tutorial: [AWS and Docker](https://aws.amazon.com/getting-started/hands-on/deploy-docker-containers/\n",
    ")\n",
    "\n",
    "7. Use [cookie cutter data science repository](https://github.com/docker-science/cookiecutter-docker-science) to learn the best practices while training a machine learning moodel in a container.\n",
    "\n",
    "8. Experiment with a different container technology such as [https://linuxcontainers.org/](https://linuxcontainers.org/)."
   ],
   "cell_type": "markdown",
   "metadata": {}
  },
  {
   "cell_type": "code",
   "execution_count": null,
   "metadata": {},
   "outputs": [],
   "source": []
  }
 ]
}