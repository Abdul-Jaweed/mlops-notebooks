{
 "metadata": {
  "language_info": {
   "codemirror_mode": {
    "name": "ipython",
    "version": 3
   },
   "file_extension": ".py",
   "mimetype": "text/x-python",
   "name": "python",
   "nbconvert_exporter": "python",
   "pygments_lexer": "ipython3",
   "version": 3
  },
  "orig_nbformat": 2
 },
 "nbformat": 4,
 "nbformat_minor": 2,
 "cells": [
  {
   "source": [
    "# Serving ML Models Using Containers on AWS\n",
    "\n",
    " - Docker\n",
    " - AWS Elastic Container Service with Fargate\n"
   ],
   "cell_type": "markdown",
   "metadata": {}
  },
  {
   "source": [
    "## TLDR \n",
    "\n",
    "### Problem\n",
    "\n",
    " - Environmental compatibility is a headache, in addition to scaling, security, maintenance and upgrade of software and hardware.\n",
    "   - For instance, in the serverless examples, the need for pickle5 instead of pickle was due to such incompatibility.\n",
    " - For hosted environments, we have to work hard on the devops to ensure the environments are the same.\n",
    " - For serverless, we did this via the requirements file (Cloud Functions) and locally installing python packages (Lambda functions)\n",
    "\n",
    "### Solution\n",
    "\n",
    " - Containers\n",
    "   - they allow you to run arbitrary programs on new environments as long as they have a common piece of software (e.g., docker).\n",
    "\n",
    " - Their use cases include:\n",
    "   - Webapp deployments (real time dashboards)\n",
    "   - Model deployments (our objective)\n",
    "   - Packaging up projects (like a snapshot) and archiving so you can return to the project with the runtime/environment all set to go.\n",
    "\n",
    "\n",
    "\n",
    "\n",
    "## Containers\n",
    "\n",
    " - Containers are tools to produce reproducible environments by isolating and packaging everything that your program needs, independent of the target/host environment where you intended to run the program.\n",
    " - Many tasks can be isolated and served in such a way, including model deployments.\n",
    " - A Container is a process with features to keep it isolated from the host system.\n",
    " - Because of their architecture, they are much lighter on resources compared to a full blown VM. You could think of them as stripped down virtual machines (VMs). Obviously this comes with some trade-offs as well.\n",
    " - Containers with our code/program/model in it can be distributed to team members and can be publicly released with minimal environment incompatibility issues.\n",
    " - One key variant of this solution is [Docker](https://en.wikipedia.org/wiki/Docker_(software)). There are others, but we will stick with this one.\n",
    " - In summary, they are useful because:\n",
    "  - consistency: in app development as well as its delivery\n",
    "  - portable: local machine or cloud\n",
    "  - lightweight: multiple containers on single host\n",
    "\n",
    "\n",
    "\n",
    "### Elastic Container Service by AWS\n",
    "\n",
    " - A proprietary solution by AWS\n",
    " - Elastic Container Service (ECS) similar to Lambda functions, and allows one to be agnostic to devops details (which server, server configs, security etc).\n",
    " - Lifts certain restrictions of Lambda functions:\n",
    " \t- Not specific to the runtimes available in Lambda functions\n",
    " \t- No memory limit (e.g., 256MB)\n",
    " - In ECS, we have to define the container explicitly, and then the rest (scaling, fault-tolerance) is behind the scenes.\n",
    "\n",
    " **Note: While exploring ECS, keep a tab on billing (check every so often)!**\n",
    "\n",
    "\n",
    "### What we will study\n",
    "\n",
    " - Docker local experimentation\n",
    " - Run docker on EC2/AWS\n",
    " - Use ECS (and Elastic Container Registry/ECR) on AWS\n",
    " - The end goal is a functionality that is almost serverless, but has more work, potentially costing less and also allowing for more flexibility.\n"
   ],
   "cell_type": "markdown",
   "metadata": {}
  },
  {
   "cell_type": "code",
   "execution_count": null,
   "metadata": {},
   "outputs": [],
   "source": []
  }
 ]
}