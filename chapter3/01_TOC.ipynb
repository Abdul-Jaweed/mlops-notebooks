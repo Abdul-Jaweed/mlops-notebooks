{
 "metadata": {
  "language_info": {
   "codemirror_mode": {
    "name": "ipython",
    "version": 3
   },
   "file_extension": ".py",
   "mimetype": "text/x-python",
   "name": "python",
   "nbconvert_exporter": "python",
   "pygments_lexer": "ipython3",
   "version": 3
  },
  "orig_nbformat": 2
 },
 "nbformat": 4,
 "nbformat_minor": 2,
 "cells": [
  {
   "source": [
    "## Outline\n",
    "\n",
    "- [Introduction to Containers](02_Intro_to_Containers.ipynb)\n",
    "- [Docker](03_Docker.ipynb)\n",
    "- [Elastic Container Registry](04_ElasticContainerRegistry.ipynb)\n",
    "- [Elastic Container Service](05_ElasticContainerService.ipynb)\n",
    "- [Exercises](06_Exercises.ipynb)"
   ],
   "cell_type": "markdown",
   "metadata": {}
  },
  {
   "cell_type": "code",
   "execution_count": null,
   "metadata": {},
   "outputs": [],
   "source": []
  }
 ]
}