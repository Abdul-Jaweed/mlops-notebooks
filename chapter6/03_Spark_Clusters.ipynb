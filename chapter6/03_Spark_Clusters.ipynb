{
 "cells": [
  {
   "cell_type": "markdown",
   "metadata": {},
   "source": [
    "## Spark Clusters"
   ]
  },
  {
   "cell_type": "markdown",
   "metadata": {},
   "source": [
    "- The execution environment is typically distributed across several machines (i.e., a cluster). \n",
    "- We submit jobs to clusters for execution.\n",
    "- Spark itself is written in Scala/Java. But the Python interface makes it amenable for data science professionals to benefit from it.\n",
    "\n",
    "#### Types of Deployments\n",
    "\n",
    "There are three types:\n",
    "\n",
    " - Self hosted cluster deployments\n",
    " - Direct cloud solutions (e.g., Cloud Dataproc by Google Cloud and EMR by AWS)\n",
    " - Vendor based deployments (e.g., Databricks): \n",
    "  - Here the vendors sit on top of IAAS providers such as GCP, AWS and Azure.\n",
    "  - They try to provide value add in by allowing for easy spark cluster management\n",
    "  - They make it easy to access multiple data science tools\n",
    "  - They also integrate with workflow management tools such as Airflow and MLflow.\n",
    "\n",
    "\n",
    "Which one should we choose:\n",
    " - Depends on cost benefit analysis\n",
    " - There will eventually be vendor lock-in with cloud and vendor solutions.\n",
    " - But self hosting needs full time engineers round the clock\n",
    "\n",
    "\n",
    "#### Cluster\n",
    "\n",
    " - Is a collection of machines\n",
    " - One machine is designated as the *driver* (essentially the master)\n",
    " - The other machines are called *workers*\n",
    " - Tasks are designed to be distributed across worker nodes.\n",
    " - These nodes are typically susceptible to failure. \n",
    "  - For instance, these could be *spot* instances from AWS.\n",
    " - Because of the transient nature of nodes and tasks mapped to these nodes, the data input/output needs to be handled differently from single machine codebases we have seen so far.\n",
    " - Unlike sshing into a container to assess bugs after it executed a faulty program, we cannot do the same here (if the node failed, we cannot ssh into it). So monitoring nodes for failures is a value add that some vendors provide. \n",
    " - Below is an example of a cluster losing its worker node.\n",
    "\n",
    "![failure](images/failure.png)\n",
    "\n",
    "\n",
    "\n",
    "#### PySpark vs Python\n",
    "\n",
    " - PySpark maps its *dataframe* to underlying RDDs and allows for manipulation of really large datasets.\n",
    " - Changes to the dataframe are lazily executed (unlike Pandas). For instance, a select or filtering on rows and columns is not run as a spark job till it is needed for say display or download or processing via pandas.\n",
    " - When you work in pure python (such as using lists or pandas dataframes), the driver node will function as the single machine instance. This is sub-optimal when you are working with large datasets.\n",
    " - The most challenging aspect of working with PySpark is to figure out which steps in your task (say feature engineering task) are not getting distributed and try to get them distributed instead.\n",
    "\n",
    " - Tip: It is always good to work on a subsample of data to get all steps properly optimized (e.g., keep most operations lazy and cluster dependent rather than driver dependent).\n"
   ]
  },
  {
   "cell_type": "markdown",
   "metadata": {},
   "source": []
  }
 ],
 "metadata": {
  "kernelspec": {
   "display_name": "Python 3",
   "language": "python",
   "name": "python3"
  },
  "language_info": {
   "name": ""
  }
 },
 "nbformat": 4,
 "nbformat_minor": 4
}
