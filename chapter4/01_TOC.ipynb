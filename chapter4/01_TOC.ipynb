{
 "cells": [
  {
   "cell_type": "markdown",
   "metadata": {},
   "source": [
    "## Outline\n",
    "\n",
    "- [Intro to Kubernetes](02_Intro_to_Kubernetes.ipynb)\n",
    "- [Simple App on Kubernetes](03_Simple_App_on_Kubernetes.ipynb)\n",
    "- [Model Serving using Kubernetes](04_Model_Serving_using_Kubernetes.ipynb)\n",
    "- [Orchestrating using a Managed Kubernetes Service](05_Orchestrating_using_GKE.ipynb)\n",
    "- [Exercises](06_Exercises.ipynb)"
   ]
  },
  {
   "cell_type": "markdown",
   "metadata": {},
   "source": []
  }
 ],
 "metadata": {
  "kernelspec": {
   "display_name": "Python 3",
   "language": "python",
   "name": "python3"
  },
  "language_info": {
   "codemirror_mode": {
    "name": "ipython",
    "version": 3
   },
   "file_extension": ".py",
   "mimetype": "text/x-python",
   "name": "python",
   "nbconvert_exporter": "python",
   "pygments_lexer": "ipython3",
   "version": "3.7.6"
  }
 },
 "nbformat": 4,
 "nbformat_minor": 4
}
