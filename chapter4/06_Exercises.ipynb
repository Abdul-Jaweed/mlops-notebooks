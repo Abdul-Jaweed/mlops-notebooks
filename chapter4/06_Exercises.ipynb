{
 "cells": [
  {
   "cell_type": "markdown",
   "metadata": {},
   "source": [
    "## Exercises\n",
    "\n",
    "\n",
    "1. Launch a kubernetes cluster with a single pod/container that loads and serves Jupyter notebooks, and which can be accessed via the browser. The images from [https://hub.docker.com/u/jupyter/#!](https://hub.docker.com/u/jupyter/#!) such as [https://hub.docker.com/r/jupyter/datascience-notebook](https://hub.docker.com/r/jupyter/datascience-notebook) can help.\n",
    "\n",
    "2. Go through the introductory examples from [https://k3s.io](https://k3s.io/) and from [https://microk8s.io/](https://microk8s.io/). Both of these allow you to try Kubernetes locally.\n",
    "\n",
    "\n",
    "3. Try switching to different images such as [https://hub.docker.com/_/python/\n",
    "](https://hub.docker.com/_/python/) with minikube.\n",
    "\n",
    "4. Go through the documentation for [Kubernetes](https://kubernetes.io/) and [Docker](https://docs.docker.com/get-started/).\n",
    "\n",
    "5. Try to access the shell of a deployed container using [these instructions](https://kubernetes.io/docs/tasks/debug-application-cluster/get-shell-running-container/).\n",
    "\n",
    "6. Read container logs to debug issues (e.g., python bugs or errors that were not caught) using [these instructions](https://kubectl.docs.kubernetes.io/pages/container_debugging/container_logs.html).\n",
    "\n",
    "7. Try creating a mini-cloud using VMs and not containers using [https://multipass.run/](https://multipass.run/).\n",
    "\n",
    "8. Go through the Redis powered Guestbook app tutorial on GKE.\n",
    "\n",
    "9. Try to create an explicit K8s cluster on GKE  and deploy the prediction model see in the chapter."
   ]
  },
  {
   "cell_type": "code",
   "execution_count": null,
   "metadata": {},
   "outputs": [],
   "source": []
  }
 ],
 "metadata": {
  "kernelspec": {
   "display_name": "Python 3",
   "language": "python",
   "name": "python3"
  },
  "language_info": {
   "codemirror_mode": {
    "name": "ipython",
    "version": 3
   },
   "file_extension": ".py",
   "mimetype": "text/x-python",
   "name": "python",
   "nbconvert_exporter": "python",
   "pygments_lexer": "ipython3",
   "version": "3.8.5"
  }
 },
 "nbformat": 4,
 "nbformat_minor": 4
}
