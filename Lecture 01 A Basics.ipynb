{
 "metadata": {
  "language_info": {
   "codemirror_mode": {
    "name": "ipython",
    "version": 3
   },
   "file_extension": ".py",
   "mimetype": "text/x-python",
   "name": "python",
   "nbconvert_exporter": "python",
   "pygments_lexer": "ipython3",
   "version": "3.8.5-final"
  },
  "orig_nbformat": 2,
  "kernelspec": {
   "name": "Python 3.8.5 64-bit ('datasci-dev': conda)",
   "display_name": "Python 3.8.5 64-bit ('datasci-dev': conda)",
   "metadata": {
    "interpreter": {
     "hash": "07955ce37a29d1aa91d65ab495d27031675fd054c2390959e4eec189c3da1d03"
    }
   }
  }
 },
 "nbformat": 4,
 "nbformat_minor": 2,
 "cells": [
  {
   "source": [
    "# Web Servers\n",
    "\n",
    "The list of topics we will cover are:\n",
    "\n",
    "- SSH and Firewall\n",
    "- Conda Environments\n",
    "- Jupyter\n",
    "- Making requests and processing responses\n",
    "- Serving a model using Flask\n",
    "- (Optional) Model Persistence using MLFlow\n",
    "- (Optional) Using VSCode\n"
   ],
   "cell_type": "markdown",
   "metadata": {}
  },
  {
   "source": [
    "### Python\n",
    "\n",
    "- We will be predominantly concerned with the Python ecosystem.\n",
    "- A big advanage is that local system development can be easily moved to cloud (which are basically remote computers) and or to a scalable on-prem solution.\n",
    "- Many companies use python to start data science projects in-house (via fresh recruits, interns etc).\n",
    "- Python has some relatively easy ways to access databases as well as to perform key data science related steps.\n",
    "- Big data platforms such as Spark have great python bindings.\n",
    "  - E.g., Pandas dataframe and Spark dataframe have some parity with each other.\n",
    "- Many/most machine learning models (deep learning, pre-trained) are built in the python ecosystem.\n",
    "- Many useful libraries: pandas, matplotlib, flask, pytorch, numpy, scipy, ..."
   ],
   "cell_type": "markdown",
   "metadata": {}
  },
  {
   "source": [
    "### Our Objective\n",
    "\n",
    "- Learn the general patterns, not master the specific tools. For many of you this will be a first exposure to operationalizing machine learning, and for others, the tools may already look familiar. \n",
    "- We will only be scratching the surface and acquainting ourselves with some key tools via _mimimum working examples_."
   ],
   "cell_type": "markdown",
   "metadata": {}
  },
  {
   "source": [
    "### Deployment Targets\n",
    "\n",
    "\n",
    "- On-prem or self-hosted machines (needs DevOps skills)\n",
    "  - Local machines (_this lecture_)\n",
    "  - Vultr\n",
    "  - Linode\n",
    "  - Hertzner\n",
    "  - OVH\n",
    "  - ...\n",
    "- Managed cloud:\n",
    "  - Heroku (PAAS)\n",
    "  - Azure\n",
    "  - GCP\n",
    "  - AWS (IAAS)\n",
    "  - DigitalOcean\n",
    "- The decision to deply on one versus the other depends on:\n",
    "  - skills\n",
    "  - business need\n",
    "    - internal vs external\n",
    "  - scale, reliability, security\n",
    "  - costs\n",
    "  - ease of deployment\n",
    "  - maintenance"
   ],
   "cell_type": "markdown",
   "metadata": {}
  },
  {
   "source": [
    "### Local Deployments are Hard\n",
    "\n",
    " - Need to learn linux security\n",
    " - Need to learn how to manage access\n",
    " - Need for learn backups\n",
    " - Need to learn hot switching / reliability (e.g., you may not be able to take your ML deployment machine offline)\n",
    "\n",
    "### Cloud Deployments are not Easy either\n",
    "\n",
    "- Also need to learn a complex ecosystem\n",
    "- Vendor lock-in (for successful businesses, this is not an issue)"
   ],
   "cell_type": "markdown",
   "metadata": {}
  },
  {
   "source": [
    "### Aside: Software Tools\n",
    "\n",
    "Python development can happen in many places:\n",
    "\n",
    "- In text editors (e.g., sublime-text)\n",
    "- In IDEs (e.g., Pycharm or VSCode)\n",
    "- In Jupyter notebooks and variants (Google Colab, Databricks notebooks)\n",
    "  - Vanilla juputer notebook currently does not allow collaboration as such"
   ],
   "cell_type": "markdown",
   "metadata": {}
  },
  {
   "source": [
    "### Part 1: Setting up Jupyter access on a VPS\n",
    "\n",
    " - We will use [Digital Ocean](https://www.digitalocean.com/), but all steps are vendor agnostic. Alternatives include: Vultr, AWS EC2, Google Cloud, Azure etc.\n",
    " - SSH passwordless access will be set up.\n",
    " - Next, we set up a basic firewall for security.\n",
    " - This is followed by installing `conda`.\n",
    " - (Optional) To run the jupyter server uninterrupted, we will run it within a screen session.\n",
    " - We will access the server and notebooks on our local browser using SSH tunneling."
   ],
   "cell_type": "markdown",
   "metadata": {}
  },
  {
   "source": [
    "\n",
    "### Part 2: Preparing an ML Model\n",
    "\n",
    " - We will review how data is accessed, and how a model is trained (this should be familiar to you). Each case is typically different.\n",
    "   - In particular, we will look at a (moive) recommendation problem.\n",
    "\n",
    " - There are aspects of saving and loading models that become important in production. For instance, we would like the models to be able to live across potentially different dev/staging/prod environments/machines. For this, we will have to think of the notion of model persistence\n",
    "   - Natively: \n",
    "     - For example, pytorch has native [save and load methods](https://pytorch.org/tutorials/recipes/recipes/save_load_across_devices.html).\n",
    "     - Same is the case for scikit-learn and a variety of other packages.\n",
    "\n",
    "   - Using MLFlow: \n",
    "     - [MLFlow](https://www.mlflow.org/docs/latest/python_api/mlflow.pytorch.html) addresses (among many other things in the ML lifecycle) the problem of moving models across different environments without issues of incompatibility (minor version numbers, OS etc) among other things.\n",
    "     - See these links for more information: [https://pypi.org/project/mlflow/](https://pypi.org/project/mlflow/) and [mlflow.org](https://www.mlflow.org/docs/latest/models.html)\n",
    "\n"
   ],
   "cell_type": "markdown",
   "metadata": {}
  }
 ]
}